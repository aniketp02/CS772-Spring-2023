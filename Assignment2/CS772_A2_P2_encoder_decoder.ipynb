{
  "nbformat": 4,
  "nbformat_minor": 0,
  "metadata": {
    "colab": {
      "provenance": [],
      "gpuType": "T4"
    },
    "kernelspec": {
      "name": "python3",
      "display_name": "Python 3"
    },
    "language_info": {
      "name": "python"
    },
    "gpuClass": "standard",
    "accelerator": "GPU"
  },
  "cells": [
    {
      "cell_type": "markdown",
      "source": [
        "# Libraries"
      ],
      "metadata": {
        "id": "0OuJefDwt26V"
      }
    },
    {
      "cell_type": "code",
      "source": [
        "import nltk\n",
        "from nltk.corpus import brown, stopwords\n",
        "import torch\n",
        "import torch.nn as nn\n",
        "import torch.nn.functional as F\n",
        "import torch.optim as optim\n",
        "import numpy as np\n",
        "from nltk.tokenize import word_tokenize\n",
        "import time\n",
        "import seaborn"
      ],
      "metadata": {
        "id": "02vJFOlA2Dch"
      },
      "execution_count": null,
      "outputs": []
    },
    {
      "cell_type": "code",
      "source": [
        "from google.colab import drive\n",
        "drive.mount('/content/drive')"
      ],
      "metadata": {
        "colab": {
          "base_uri": "https://localhost:8080/"
        },
        "id": "ECuXomCENUSX",
        "outputId": "673819fd-d989-4445-f18e-3fef3873957f"
      },
      "execution_count": null,
      "outputs": [
        {
          "output_type": "stream",
          "name": "stdout",
          "text": [
            "Mounted at /content/drive\n"
          ]
        }
      ]
    },
    {
      "cell_type": "markdown",
      "source": [
        "# Data"
      ],
      "metadata": {
        "id": "8d2RyV21t6jF"
      }
    },
    {
      "cell_type": "markdown",
      "source": [
        "## Downloading data"
      ],
      "metadata": {
        "id": "uTCXKpkpuHKD"
      }
    },
    {
      "cell_type": "code",
      "source": [
        "nltk.download(\"brown\")\n",
        "nltk.download(\"punkt\")\n",
        "nltk.download(\"stopwords\")\n",
        "nltk.download(\"universal_tagset\")"
      ],
      "metadata": {
        "colab": {
          "base_uri": "https://localhost:8080/"
        },
        "id": "d6laPeBt2G5r",
        "outputId": "f9ac44c1-43e7-4e96-f305-0dae458da3f4"
      },
      "execution_count": null,
      "outputs": [
        {
          "output_type": "stream",
          "name": "stderr",
          "text": [
            "[nltk_data] Downloading package brown to /root/nltk_data...\n",
            "[nltk_data]   Unzipping corpora/brown.zip.\n",
            "[nltk_data] Downloading package punkt to /root/nltk_data...\n",
            "[nltk_data]   Unzipping tokenizers/punkt.zip.\n",
            "[nltk_data] Downloading package stopwords to /root/nltk_data...\n",
            "[nltk_data]   Unzipping corpora/stopwords.zip.\n",
            "[nltk_data] Downloading package universal_tagset to /root/nltk_data...\n",
            "[nltk_data]   Unzipping taggers/universal_tagset.zip.\n"
          ]
        },
        {
          "output_type": "execute_result",
          "data": {
            "text/plain": [
              "True"
            ]
          },
          "metadata": {},
          "execution_count": 3
        }
      ]
    },
    {
      "cell_type": "markdown",
      "source": [
        "## Exploring the corpus"
      ],
      "metadata": {
        "id": "HLBZojrKuJ05"
      }
    },
    {
      "cell_type": "code",
      "source": [
        "brown_words =  brown.tagged_words(tagset=\"universal\")\n",
        "brown_sentences = brown.tagged_sents(tagset=\"universal\")"
      ],
      "metadata": {
        "id": "G1923AUvmEnT"
      },
      "execution_count": null,
      "outputs": []
    },
    {
      "cell_type": "code",
      "source": [
        "brown_words"
      ],
      "metadata": {
        "colab": {
          "base_uri": "https://localhost:8080/"
        },
        "id": "BaH6jrFStfNz",
        "outputId": "703ebac8-c930-4912-b128-9ad7dc7b9082"
      },
      "execution_count": null,
      "outputs": [
        {
          "output_type": "execute_result",
          "data": {
            "text/plain": [
              "[('The', 'DET'), ('Fulton', 'NOUN'), ...]"
            ]
          },
          "metadata": {},
          "execution_count": 5
        }
      ]
    },
    {
      "cell_type": "code",
      "source": [
        "len(brown_words)"
      ],
      "metadata": {
        "colab": {
          "base_uri": "https://localhost:8080/"
        },
        "id": "99iI1ivhmVnK",
        "outputId": "691548b2-2f81-4991-c8ca-358fe2981d1b"
      },
      "execution_count": null,
      "outputs": [
        {
          "output_type": "execute_result",
          "data": {
            "text/plain": [
              "1161192"
            ]
          },
          "metadata": {},
          "execution_count": 6
        }
      ]
    },
    {
      "cell_type": "code",
      "source": [
        "brown_sentences[0]"
      ],
      "metadata": {
        "colab": {
          "base_uri": "https://localhost:8080/"
        },
        "id": "SkJjtLkqtRsW",
        "outputId": "1831cbc8-b93f-4733-ad8c-fbb1ce7a081c"
      },
      "execution_count": null,
      "outputs": [
        {
          "output_type": "execute_result",
          "data": {
            "text/plain": [
              "[('The', 'DET'),\n",
              " ('Fulton', 'NOUN'),\n",
              " ('County', 'NOUN'),\n",
              " ('Grand', 'ADJ'),\n",
              " ('Jury', 'NOUN'),\n",
              " ('said', 'VERB'),\n",
              " ('Friday', 'NOUN'),\n",
              " ('an', 'DET'),\n",
              " ('investigation', 'NOUN'),\n",
              " ('of', 'ADP'),\n",
              " (\"Atlanta's\", 'NOUN'),\n",
              " ('recent', 'ADJ'),\n",
              " ('primary', 'NOUN'),\n",
              " ('election', 'NOUN'),\n",
              " ('produced', 'VERB'),\n",
              " ('``', '.'),\n",
              " ('no', 'DET'),\n",
              " ('evidence', 'NOUN'),\n",
              " (\"''\", '.'),\n",
              " ('that', 'ADP'),\n",
              " ('any', 'DET'),\n",
              " ('irregularities', 'NOUN'),\n",
              " ('took', 'VERB'),\n",
              " ('place', 'NOUN'),\n",
              " ('.', '.')]"
            ]
          },
          "metadata": {},
          "execution_count": 7
        }
      ]
    },
    {
      "cell_type": "code",
      "source": [
        "len(brown_sentences)"
      ],
      "metadata": {
        "colab": {
          "base_uri": "https://localhost:8080/"
        },
        "id": "3INXVsydtBt1",
        "outputId": "4c7c7cdb-663f-4f0a-89cc-fe1935889540"
      },
      "execution_count": null,
      "outputs": [
        {
          "output_type": "execute_result",
          "data": {
            "text/plain": [
              "57340"
            ]
          },
          "metadata": {},
          "execution_count": 8
        }
      ]
    },
    {
      "cell_type": "markdown",
      "source": [
        "Now, let us check whether *brown_words* and *brown_sentences* have the same (word,tag) pairs."
      ],
      "metadata": {
        "id": "US7BBIYMyUeS"
      }
    },
    {
      "cell_type": "code",
      "source": [
        "brown_sent2words = []\n",
        "for sent in  brown_sentences:\n",
        "  for word_tag in sent:\n",
        "    brown_sent2words.append(word_tag)"
      ],
      "metadata": {
        "id": "ERbOraw2yTUc"
      },
      "execution_count": null,
      "outputs": []
    },
    {
      "cell_type": "code",
      "source": [
        "print(len(brown_words) - len(brown_sent2words))"
      ],
      "metadata": {
        "colab": {
          "base_uri": "https://localhost:8080/"
        },
        "id": "eHccIGh3zDCl",
        "outputId": "1e6a0293-4d8c-438b-d931-e503a21e7da7"
      },
      "execution_count": null,
      "outputs": [
        {
          "output_type": "stream",
          "name": "stdout",
          "text": [
            "0\n"
          ]
        }
      ]
    },
    {
      "cell_type": "markdown",
      "source": [
        "The number of (word,tag) pairs are the same in both"
      ],
      "metadata": {
        "id": "uu5RYirMzKm5"
      }
    },
    {
      "cell_type": "code",
      "source": [
        "i = 0\n",
        "while(i != len(brown_words)):\n",
        "  if(brown_words[i] != brown_sent2words[i]):\n",
        "    print(brown_words[i], brown_sent2words[i])\n",
        "  i += 1"
      ],
      "metadata": {
        "id": "o9BizpvRzJrk"
      },
      "execution_count": null,
      "outputs": []
    },
    {
      "cell_type": "markdown",
      "source": [
        "This means that the (word,tag) pairs in the two are the same."
      ],
      "metadata": {
        "id": "-xt-0MuYzmuJ"
      }
    },
    {
      "cell_type": "markdown",
      "source": [
        "### Tags in the tagset"
      ],
      "metadata": {
        "id": "wOMFvc0MDnEt"
      }
    },
    {
      "cell_type": "code",
      "source": [
        "unique_tags = []\n",
        "\n",
        "for sent in brown_sentences:\n",
        "  for (word, tag) in sent:\n",
        "    if(tag not in unique_tags):\n",
        "      unique_tags.append(tag)"
      ],
      "metadata": {
        "id": "pA1C-7DnECXk"
      },
      "execution_count": null,
      "outputs": []
    },
    {
      "cell_type": "code",
      "source": [
        "print(unique_tags)"
      ],
      "metadata": {
        "colab": {
          "base_uri": "https://localhost:8080/"
        },
        "id": "eCrIkyeIEVBY",
        "outputId": "5ad582bf-766e-4ba2-f2b1-7796a307798d"
      },
      "execution_count": null,
      "outputs": [
        {
          "output_type": "stream",
          "name": "stdout",
          "text": [
            "['DET', 'NOUN', 'ADJ', 'VERB', 'ADP', '.', 'ADV', 'CONJ', 'PRT', 'PRON', 'NUM', 'X']\n"
          ]
        }
      ]
    },
    {
      "cell_type": "code",
      "source": [
        "print(len(unique_tags))"
      ],
      "metadata": {
        "colab": {
          "base_uri": "https://localhost:8080/"
        },
        "id": "sLcWXhNcEY6f",
        "outputId": "c5d73557-ae09-4a10-dfba-eee7df0d5f37"
      },
      "execution_count": null,
      "outputs": [
        {
          "output_type": "stream",
          "name": "stdout",
          "text": [
            "12\n"
          ]
        }
      ]
    },
    {
      "cell_type": "markdown",
      "source": [
        "## Data Preprocessing"
      ],
      "metadata": {
        "id": "dq4wQo-x6ot5"
      }
    },
    {
      "cell_type": "code",
      "source": [
        "max_len_sentence = 0\n",
        "for sent in brown_sentences:\n",
        "  max_len_sentence = max(max_len_sentence, len(sent))"
      ],
      "metadata": {
        "id": "u4oXsXdi9oZ0"
      },
      "execution_count": null,
      "outputs": []
    },
    {
      "cell_type": "code",
      "source": [
        "print(max_len_sentence)"
      ],
      "metadata": {
        "colab": {
          "base_uri": "https://localhost:8080/"
        },
        "id": "NaXux5ME-J9P",
        "outputId": "885ced08-5f11-486a-e59c-444a0a75cb8b"
      },
      "execution_count": null,
      "outputs": [
        {
          "output_type": "stream",
          "name": "stdout",
          "text": [
            "180\n"
          ]
        }
      ]
    },
    {
      "cell_type": "code",
      "source": [
        "n = 0\n",
        "for sent in brown_sentences:\n",
        "  if(len(sent) >= 100):\n",
        "    n += 1"
      ],
      "metadata": {
        "id": "BgQUo4g--RnV"
      },
      "execution_count": null,
      "outputs": []
    },
    {
      "cell_type": "code",
      "source": [
        "print(n)"
      ],
      "metadata": {
        "colab": {
          "base_uri": "https://localhost:8080/"
        },
        "id": "1H2dX2Uw-aGe",
        "outputId": "7a4c5171-766d-4303-c36d-a658a387e7c1"
      },
      "execution_count": null,
      "outputs": [
        {
          "output_type": "stream",
          "name": "stdout",
          "text": [
            "40\n"
          ]
        }
      ]
    },
    {
      "cell_type": "markdown",
      "source": [
        "The max. length of any sentence in the data is 180, and the number of sentences with length >= 100 is just 40.\n",
        "\n",
        "So let us choose the standardizing length to be 100."
      ],
      "metadata": {
        "id": "BR5Pf3FM-6K1"
      }
    },
    {
      "cell_type": "code",
      "source": [
        "STD_LEN = 100"
      ],
      "metadata": {
        "id": "_AtksWbtAEsb"
      },
      "execution_count": null,
      "outputs": []
    },
    {
      "cell_type": "code",
      "source": [
        "words = []\n",
        "tags = []\n",
        "\n",
        "for sent in brown_sentences:\n",
        "  words.append([])\n",
        "  tags.append([])\n",
        "  for (word, tag) in sent:\n",
        "    words[-1].append(word.lower())\n",
        "    tags[-1].append(tag)"
      ],
      "metadata": {
        "id": "5SmAm5_i6oAl"
      },
      "execution_count": null,
      "outputs": []
    },
    {
      "cell_type": "code",
      "source": [
        "print(words[:4])"
      ],
      "metadata": {
        "colab": {
          "base_uri": "https://localhost:8080/"
        },
        "id": "9gkQcR6DC1qF",
        "outputId": "0d477dab-d759-44d6-a400-7b3c04e7ed7c"
      },
      "execution_count": null,
      "outputs": [
        {
          "output_type": "stream",
          "name": "stdout",
          "text": [
            "[['the', 'fulton', 'county', 'grand', 'jury', 'said', 'friday', 'an', 'investigation', 'of', \"atlanta's\", 'recent', 'primary', 'election', 'produced', '``', 'no', 'evidence', \"''\", 'that', 'any', 'irregularities', 'took', 'place', '.'], ['the', 'jury', 'further', 'said', 'in', 'term-end', 'presentments', 'that', 'the', 'city', 'executive', 'committee', ',', 'which', 'had', 'over-all', 'charge', 'of', 'the', 'election', ',', '``', 'deserves', 'the', 'praise', 'and', 'thanks', 'of', 'the', 'city', 'of', 'atlanta', \"''\", 'for', 'the', 'manner', 'in', 'which', 'the', 'election', 'was', 'conducted', '.'], ['the', 'september-october', 'term', 'jury', 'had', 'been', 'charged', 'by', 'fulton', 'superior', 'court', 'judge', 'durwood', 'pye', 'to', 'investigate', 'reports', 'of', 'possible', '``', 'irregularities', \"''\", 'in', 'the', 'hard-fought', 'primary', 'which', 'was', 'won', 'by', 'mayor-nominate', 'ivan', 'allen', 'jr.', '.'], ['``', 'only', 'a', 'relative', 'handful', 'of', 'such', 'reports', 'was', 'received', \"''\", ',', 'the', 'jury', 'said', ',', '``', 'considering', 'the', 'widespread', 'interest', 'in', 'the', 'election', ',', 'the', 'number', 'of', 'voters', 'and', 'the', 'size', 'of', 'this', 'city', \"''\", '.']]\n"
          ]
        }
      ]
    },
    {
      "cell_type": "markdown",
      "source": [
        "Splitting data into train:test ratio of 90:10"
      ],
      "metadata": {
        "id": "3dv1DQgCA5P6"
      }
    },
    {
      "cell_type": "code",
      "source": [
        "train_words = words[:len(words)*9//10]\n",
        "train_tags = tags[:len(tags)*9//10]\n",
        "\n",
        "test_words = words[len(words)*9//10:]\n",
        "test_tags = tags[len(words)*9//10:]"
      ],
      "metadata": {
        "id": "se8Wy6IUAf5V"
      },
      "execution_count": null,
      "outputs": []
    },
    {
      "cell_type": "markdown",
      "source": [
        "### Giving ids to the data"
      ],
      "metadata": {
        "id": "rJYb1i3kCmYD"
      }
    },
    {
      "cell_type": "code",
      "source": [
        "word2id = {}\n",
        "\n",
        "for i in range(len(words)):\n",
        "  for word in words[i]:\n",
        "    if(word not in word2id):\n",
        "      word2id[word] = len(word2id)\n",
        "\n",
        "tag2id = {}\n",
        "\n",
        "for i in range(len(tags)):\n",
        "  for tag in tags[i]:\n",
        "    if(tag not in tag2id):\n",
        "      tag2id[tag] = len(tag2id)"
      ],
      "metadata": {
        "id": "u6B7RD0fBd1u"
      },
      "execution_count": null,
      "outputs": []
    },
    {
      "cell_type": "code",
      "source": [
        "print(len(word2id))"
      ],
      "metadata": {
        "colab": {
          "base_uri": "https://localhost:8080/"
        },
        "id": "C7uaSzoxDApY",
        "outputId": "dae120a2-651c-4535-a773-e8dc8bf91407"
      },
      "execution_count": null,
      "outputs": [
        {
          "output_type": "stream",
          "name": "stdout",
          "text": [
            "49815\n"
          ]
        }
      ]
    },
    {
      "cell_type": "code",
      "source": [
        "print(len(tag2id))"
      ],
      "metadata": {
        "colab": {
          "base_uri": "https://localhost:8080/"
        },
        "id": "ra_l9H33F-vK",
        "outputId": "afc01369-3143-4072-ac02-ddf7f4187081"
      },
      "execution_count": null,
      "outputs": [
        {
          "output_type": "stream",
          "name": "stdout",
          "text": [
            "12\n"
          ]
        }
      ]
    },
    {
      "cell_type": "code",
      "source": [
        "# Setup GPU if available\n",
        "device = torch.device(\"cuda\" if torch.cuda.is_available() else \"cpu\")\n",
        "print(device)"
      ],
      "metadata": {
        "id": "AYNDRT7SwREo",
        "colab": {
          "base_uri": "https://localhost:8080/"
        },
        "outputId": "2d33cd97-5317-43a9-b0f0-5a0c14791a64"
      },
      "execution_count": null,
      "outputs": [
        {
          "output_type": "stream",
          "name": "stdout",
          "text": [
            "cuda\n"
          ]
        }
      ]
    },
    {
      "cell_type": "code",
      "source": [
        "train_x = []\n",
        "train_y = []\n",
        "\n",
        "for (w, t) in zip(train_words, train_tags):\n",
        "  x = [word2id[word] for word in w]\n",
        "  y = [tag2id[tag] for tag in t]\n",
        "\n",
        "  x = torch.from_numpy(np.array(x)).to(device)\n",
        "  y = torch.from_numpy(np.array(y)).to(device)\n",
        "\n",
        "  train_x.append(x)\n",
        "  train_y.append(y)"
      ],
      "metadata": {
        "id": "OZSWJCvkAdov"
      },
      "execution_count": null,
      "outputs": []
    },
    {
      "cell_type": "code",
      "source": [
        "test_x = []\n",
        "test_y = []\n",
        "\n",
        "for (w, t) in zip(test_words, test_tags):\n",
        "  x = [word2id[word] for word in w]\n",
        "  y = [tag2id[tag] for tag in t]\n",
        "\n",
        "  x = torch.from_numpy(np.array(x)).to(device)\n",
        "  y = torch.from_numpy(np.array(y)).to(device)\n",
        "\n",
        "  test_x.append(x)\n",
        "  test_y.append(y)"
      ],
      "metadata": {
        "id": "PDtyfXTkKZS8"
      },
      "execution_count": null,
      "outputs": []
    },
    {
      "cell_type": "markdown",
      "source": [
        "5-fold cross validation has to be done splitting the training data into 5 almost equal parts"
      ],
      "metadata": {
        "id": "_ayTLDoa2Iv7"
      }
    },
    {
      "cell_type": "code",
      "source": [
        "train_valid_x = []\n",
        "train_valid_y = []\n",
        "m = len(train_x)\n",
        "\n",
        "for i in range(5):\n",
        "  part_x = train_x[i*m//5:(i+1)*m//5]\n",
        "  part_y = train_y[i*m//5:(i+1)*m//5]\n",
        "\n",
        "  train_valid_x.append(part_x)\n",
        "  train_valid_y.append(part_y)"
      ],
      "metadata": {
        "id": "s4SvJcN9Boie"
      },
      "execution_count": null,
      "outputs": []
    },
    {
      "cell_type": "markdown",
      "source": [
        "# Model"
      ],
      "metadata": {
        "id": "nAnByegnGDKL"
      }
    },
    {
      "cell_type": "code",
      "source": [
        "class Encoder(nn.Module):\n",
        "\n",
        "  def __init__(self, vocab_size, embedding_dim, hidden_state_dim):\n",
        "    super(Encoder, self).__init__()\n",
        "\n",
        "    self.vocab_size = vocab_size\n",
        "    # self.target_size = target_size\n",
        "    self.embedding_dim = embedding_dim\n",
        "    self.hidden_state_dim = hidden_state_dim\n",
        "\n",
        "    self.embeddings = nn.Embedding(vocab_size, embedding_dim)\n",
        "\n",
        "    self.lstm = nn.LSTM(embedding_dim, hidden_state_dim)\n",
        "\n",
        "    # self.output = nn.Linear(hidden_state_dim, target_size)\n",
        "\n",
        "    # self.hidden_state = self.hidden_state_initialize()\n",
        "\n",
        "  # def hidden_state_initialize(self):\n",
        "  #   return (torch.zeros(1, 1, self.hidden_state_dim).to(device), torch.zeros(1, 1, self.hidden_state_dim).to(device))\n",
        "\n",
        "  def forward(self, input, hidden_state):\n",
        "    embeddings = self.embeddings(input)\n",
        "\n",
        "    lstm_output, hidden_state = self.lstm(embeddings.view(len(input), 1, -1), hidden_state)\n",
        "\n",
        "    # output = self.output(lstm_output.view(len(input), -1))\n",
        "\n",
        "    # probs = F.log_softmax(output, dim=1)\n",
        "\n",
        "    return hidden_state"
      ],
      "metadata": {
        "id": "ruawsEtsGBak"
      },
      "execution_count": null,
      "outputs": []
    },
    {
      "cell_type": "code",
      "source": [
        "class Decoder(nn.Module):\n",
        "\n",
        "  def __init__(self, target_size, input_dim, hidden_state_dim):\n",
        "    super(Decoder, self).__init__()\n",
        "\n",
        "    # self.vocab_size = vocab_size\n",
        "    self.target_size = target_size\n",
        "    self.input_dim = input_dim\n",
        "    self.hidden_state_dim = hidden_state_dim\n",
        "\n",
        "    self.inputs = nn.Linear(2*hidden_state_dim, input_dim)\n",
        "\n",
        "    self.lstm = nn.LSTM(hidden_state_dim, hidden_state_dim)\n",
        "\n",
        "    self.output = nn.Linear(hidden_state_dim, target_size)\n",
        "\n",
        "  # def hidden_state_initialize(self):\n",
        "  #   return (torch.zeros(1, 1, self.hidden_state_dim).to(device), torch.zeros(1, 1, self.hidden_state_dim).to(device))\n",
        "\n",
        "  def forward(self, hidden_state, num_words):\n",
        "    inputs = self.inputs(torch.concat(hidden_state, axis=-1))\n",
        "    inputs = inputs.repeat(num_words, 1, 1)\n",
        "\n",
        "    lstm_output, hidden_state = self.lstm(inputs.view(len(inputs), 1, -1), hidden_state)\n",
        "\n",
        "    output = self.output(lstm_output.view(len(inputs), -1))\n",
        "\n",
        "    probs = F.log_softmax(output, dim=1)\n",
        "\n",
        "    return probs"
      ],
      "metadata": {
        "id": "7Mws7Z8XXRxR"
      },
      "execution_count": null,
      "outputs": []
    },
    {
      "cell_type": "code",
      "source": [
        "class POStagger(nn.Module):\n",
        "  def __init__(self, encoder, decoder, hidden_state_dim):\n",
        "    super().__init__()\n",
        "\n",
        "    self.encoder = encoder\n",
        "    self.decoder = decoder\n",
        "    self.hidden_state_dim = hidden_state_dim\n",
        "    self.hidden_state = self.hidden_state_initialize()\n",
        "\n",
        "  def hidden_state_initialize(self):\n",
        "    return (torch.zeros(1, 1, self.hidden_state_dim).to(device), torch.zeros(1, 1, self.hidden_state_dim).to(device))\n",
        "\n",
        "  def forward(self, input, num_words):\n",
        "    self.hidden_state = self.encoder(input, self.hidden_state)\n",
        "    probs = self.decoder(self.hidden_state, num_words)\n",
        "\n",
        "    return probs"
      ],
      "metadata": {
        "id": "D_rBDT1Va1tW"
      },
      "execution_count": null,
      "outputs": []
    },
    {
      "cell_type": "code",
      "source": [
        "EMBEDDING_DIM = 128\n",
        "HIDDEN_STATE_DIM = 128\n",
        "INPUT_DIM = 128\n",
        "\n",
        "encoder = Encoder(len(word2id), EMBEDDING_DIM, HIDDEN_STATE_DIM)\n",
        "decoder = Decoder(len(tag2id), INPUT_DIM, HIDDEN_STATE_DIM)\n",
        "\n",
        "model = POStagger(encoder, decoder, HIDDEN_STATE_DIM).to(device)\n",
        "\n",
        "criterion = nn.NLLLoss()\n",
        "# optimizer = optim.SGD(model.parameters(), lr=0.3)\n",
        "optimizer = optim.Adam(model.parameters())"
      ],
      "metadata": {
        "id": "MmUcttUCRh8-"
      },
      "execution_count": null,
      "outputs": []
    },
    {
      "cell_type": "markdown",
      "source": [
        "# Training"
      ],
      "metadata": {
        "id": "uDkvNi4tShSf"
      }
    },
    {
      "cell_type": "code",
      "source": [
        "def weight_initialize(model):\n",
        "  for _, parameters in model.named_parameters():\n",
        "    nn.init.uniform_(parameters.data, -1, 1)\n",
        "\n",
        "model.apply(weight_initialize)"
      ],
      "metadata": {
        "colab": {
          "base_uri": "https://localhost:8080/"
        },
        "id": "4eXdxJnWTipu",
        "outputId": "6cf5eedc-0364-4a8d-b905-117ccfe0df20"
      },
      "execution_count": null,
      "outputs": [
        {
          "output_type": "execute_result",
          "data": {
            "text/plain": [
              "POStagger(\n",
              "  (encoder): Encoder(\n",
              "    (embeddings): Embedding(49815, 128)\n",
              "    (lstm): LSTM(128, 128)\n",
              "  )\n",
              "  (decoder): Decoder(\n",
              "    (inputs): Linear(in_features=256, out_features=128, bias=True)\n",
              "    (lstm): LSTM(128, 128)\n",
              "    (output): Linear(in_features=128, out_features=12, bias=True)\n",
              "  )\n",
              ")"
            ]
          },
          "metadata": {},
          "execution_count": 34
        }
      ]
    },
    {
      "cell_type": "code",
      "source": [
        "# def train(model, X, y, optimizer, criterion):\n",
        "\n",
        "#   model.train()\n",
        "\n",
        "#   model.hidden_state_initialize()\n",
        "\n",
        "#   # total_loss = 0\n",
        "\n",
        "#   # for (X, y) in zip(X_loader, y_loader):\n",
        "#     # X = torch.reshape(X, X.size()[1:])\n",
        "#     # y = torch.reshape(y, y.size()[1:])\n",
        "\n",
        "#   model.zero_grad()\n",
        "\n",
        "#   probs = model(X)\n",
        "\n",
        "#   loss = criterion(probs, y)\n",
        "#   loss.backward()\n",
        "#   # total_loss += loss.item()\n",
        "\n",
        "#   optimizer.step()\n",
        "\n",
        "#   return loss.item()"
      ],
      "metadata": {
        "id": "QxVfEjokwxcS"
      },
      "execution_count": null,
      "outputs": []
    },
    {
      "cell_type": "code",
      "source": [
        "# def evaluate(model, X, y, criterion):\n",
        "\n",
        "#   model.eval()\n",
        "\n",
        "#   # total_loss = 0\n",
        "\n",
        "#   # for (X, y) in zip(X_loader, y_loader):\n",
        "#     # X = torch.reshape(X, X.size()[1:])\n",
        "#     # y = torch.reshape(y, y.size()[1:])\n",
        "\n",
        "#   probs = model(X)\n",
        "\n",
        "#   loss = criterion(probs, y)\n",
        "#   # total_loss += loss.item()\n",
        "\n",
        "#   return loss.item()"
      ],
      "metadata": {
        "id": "VT-Q-c0rw2nB"
      },
      "execution_count": null,
      "outputs": []
    },
    {
      "cell_type": "code",
      "source": [
        "EPOCHS = 20\n",
        "\n",
        "for epoch in range(EPOCHS):\n",
        "  tic = time.time()\n",
        "\n",
        "  epoch_training_loss = 0.0\n",
        "  epoch_validation_loss = 0.0\n",
        "\n",
        "  r = np.random.randint(5)\n",
        "  for i in range(5):\n",
        "    if(i != r):\n",
        "      # for (xs, ys) in zip(train_valid_x[i], train_valid_y[i]):\n",
        "      #   train_loss = train(model, xs, ys, optimizer, criterion)\n",
        "      model.train()\n",
        "\n",
        "      for (xs, ys) in zip(train_valid_x[i], train_valid_y[i]):\n",
        "        model.zero_grad()\n",
        "\n",
        "        model.hidden_state = model.hidden_state_initialize()\n",
        "\n",
        "        probs = model(xs, len(xs))\n",
        "\n",
        "        loss = criterion(probs, ys)\n",
        "        epoch_training_loss += loss.item()\n",
        "        loss.backward()\n",
        "\n",
        "        optimizer.step()\n",
        "\n",
        "  # valid_loss = evaluate(model, xs, ys, criterion)\n",
        "  model.eval()\n",
        "  for (xs, ys) in zip(train_valid_x[r], train_valid_y[r]):\n",
        "    with torch.no_grad():\n",
        "      model.hidden_state = model.hidden_state_initialize()\n",
        "\n",
        "      probs = model(xs, len(xs))\n",
        "\n",
        "      loss = criterion(probs, ys)\n",
        "      epoch_validation_loss += loss.item()\n",
        "\n",
        "  toc = time.time()\n",
        "\n",
        "  epoch_time = toc - tic\n",
        "  epoch_min = epoch_time // 60\n",
        "  epoch_sec = epoch_time % 60\n",
        "\n",
        "  torch.save(model.state_dict(), \"model%d\" % (epoch+1))\n",
        "\n",
        "  print(f\"Epoch : {epoch+1} -- Training loss : {epoch_training_loss/len(train_words)},\\t Validation loss : {epoch_validation_loss/len(train_words)},\\t Time : {epoch_min}m {epoch_sec}s\")\n",
        "\n",
        "  # torch.save(model.state_dict(), \"model%d\" % (epoch+1))\n",
        "  # print(f\"Epoch : {epoch+1} -- training loss : {epoch_training_loss/len(train_words)}, validation loss : {epoch_validation_loss/len(train_words)}\" )"
      ],
      "metadata": {
        "colab": {
          "base_uri": "https://localhost:8080/"
        },
        "id": "nsMGR07nD5hk",
        "outputId": "52fceb76-ff30-4471-bab1-ee864568900b"
      },
      "execution_count": null,
      "outputs": [
        {
          "output_type": "stream",
          "name": "stdout",
          "text": [
            "Epoch : 1 -- Training loss : 1.6613598524435664,\t Validation loss : 0.4184413418367504,\t Time : 3.0m 18.214321613311768s\n",
            "Epoch : 2 -- Training loss : 1.5816870652108848,\t Validation loss : 0.3868993508258558,\t Time : 3.0m 15.32718539237976s\n",
            "Epoch : 3 -- Training loss : 1.4979153131002734,\t Validation loss : 0.38296791118291845,\t Time : 3.0m 14.856918334960938s\n",
            "Epoch : 4 -- Training loss : 1.4731285151646583,\t Validation loss : 0.3693081304725786,\t Time : 3.0m 15.008005619049072s\n",
            "Epoch : 5 -- Training loss : 1.466195923374925,\t Validation loss : 0.3752312484721757,\t Time : 3.0m 15.651866436004639s\n",
            "Epoch : 6 -- Training loss : 1.4376353773508996,\t Validation loss : 0.37323933971672174,\t Time : 3.0m 15.821755409240723s\n",
            "Epoch : 7 -- Training loss : 1.4305962432028367,\t Validation loss : 0.36700670891851345,\t Time : 3.0m 15.012444257736206s\n",
            "Epoch : 8 -- Training loss : 1.4107739314042655,\t Validation loss : 0.3672919929406197,\t Time : 3.0m 14.851094245910645s\n",
            "Epoch : 9 -- Training loss : 1.3911786401230237,\t Validation loss : 0.35918422264065236,\t Time : 3.0m 15.015926599502563s\n",
            "Epoch : 10 -- Training loss : 1.3918736045439828,\t Validation loss : 0.32520340226530897,\t Time : 3.0m 14.115017652511597s\n",
            "Epoch : 11 -- Training loss : 1.3575043965440468,\t Validation loss : 0.3520286736767865,\t Time : 3.0m 14.1115882396698s\n",
            "Epoch : 12 -- Training loss : 1.3648109253584582,\t Validation loss : 0.3191477973984325,\t Time : 3.0m 13.968612432479858s\n",
            "Epoch : 13 -- Training loss : 1.3308694331656832,\t Validation loss : 0.3339591580491712,\t Time : 3.0m 13.804823398590088s\n",
            "Epoch : 14 -- Training loss : 1.3060929857212744,\t Validation loss : 0.3380979921508836,\t Time : 3.0m 14.180756330490112s\n",
            "Epoch : 15 -- Training loss : 1.2939519976317981,\t Validation loss : 0.33702935166602227,\t Time : 3.0m 13.573280096054077s\n",
            "Epoch : 16 -- Training loss : 1.3066966941325877,\t Validation loss : 0.3375400407873704,\t Time : 3.0m 14.217170715332031s\n",
            "Epoch : 17 -- Training loss : 1.2875428551669503,\t Validation loss : 0.3370386329890247,\t Time : 3.0m 14.2430579662323s\n",
            "Epoch : 18 -- Training loss : 1.2777179145885014,\t Validation loss : 0.3195667366099052,\t Time : 3.0m 13.722787141799927s\n",
            "Epoch : 19 -- Training loss : 1.2536397821192053,\t Validation loss : 0.3169780128240161,\t Time : 3.0m 14.217703104019165s\n",
            "Epoch : 20 -- Training loss : 1.2485190786924547,\t Validation loss : 0.32752053252867175,\t Time : 3.0m 14.274289846420288s\n"
          ]
        }
      ]
    },
    {
      "cell_type": "markdown",
      "source": [
        "# Loading trained model"
      ],
      "metadata": {
        "id": "rPuTFG0AN14m"
      }
    },
    {
      "cell_type": "code",
      "source": [
        "model = POStagger(encoder, decoder, HIDDEN_STATE_DIM).to(device)\n",
        "model.load_state_dict(torch.load(\"/content/drive/MyDrive/IITB/Sem6/CS772/A2/model20_encoder_decoder\"))"
      ],
      "metadata": {
        "colab": {
          "base_uri": "https://localhost:8080/"
        },
        "id": "EbWQxHyBNw9I",
        "outputId": "8f740ed5-1308-4830-f4d6-6d00891c63a8"
      },
      "execution_count": null,
      "outputs": [
        {
          "output_type": "execute_result",
          "data": {
            "text/plain": [
              "<All keys matched successfully>"
            ]
          },
          "metadata": {},
          "execution_count": 37
        }
      ]
    },
    {
      "cell_type": "markdown",
      "source": [
        "# Testing"
      ],
      "metadata": {
        "id": "HV0ydJKN1mXe"
      }
    },
    {
      "cell_type": "code",
      "source": [
        "testing_loss = 0.0\n",
        "precision = {}\n",
        "recall = {}\n",
        "f1 = {}\n",
        "f0_5 = {}\n",
        "f2 = {}\n",
        "\n",
        "pred_tag = np.zeros((len(tag2id),len(tag2id)), np.int32)\n",
        "\n",
        "model.eval()\n",
        "for (xs, ys) in zip(test_x, test_y):\n",
        "  with torch.no_grad():\n",
        "    model.hidden_state = model.hidden_state_initialize()\n",
        "\n",
        "    probs = model(xs, len(xs))\n",
        "\n",
        "    loss = criterion(probs, ys)\n",
        "    testing_loss += loss.item()\n",
        "\n",
        "    # j = 0\n",
        "    # for p in probs:\n",
        "    #   pred = 0\n",
        "    #   for i in range(1,len(tag2id)):\n",
        "    #     if(p[i] > p[i-1]):\n",
        "    #       pred = i\n",
        "    #   pred_tag[pred,ys[j]] += 1\n",
        "    #   j += 1\n",
        "\n",
        "    for i in range(len(xs)):\n",
        "      pred = torch.argmax(probs[i])\n",
        "      pred = int(pred)\n",
        "      pred_tag[pred, ys[i]] += 1\n",
        "\n",
        "print(pred_tag)\n",
        "\n",
        "for i in range(len(tag2id)):\n",
        "  row_sum = 0\n",
        "  column_sum = 0\n",
        "  for j in range(len(tag2id)):\n",
        "    # print(pred_tag[i,j])\n",
        "    row_sum += pred_tag[i,j]\n",
        "  for j in range(len(tag2id)):\n",
        "    column_sum += pred_tag[j,i]\n",
        "\n",
        "  if(row_sum != 0):\n",
        "    precision[unique_tags[i]] = pred_tag[i,i]*1.0/row_sum\n",
        "  if(column_sum != 0):\n",
        "    recall[unique_tags[i]] = pred_tag[i,i]*1.0/column_sum\n",
        "\n",
        "  if(row_sum != 0 and column_sum != 0):\n",
        "    f1[unique_tags[i]] = 2*precision[unique_tags[i]]*recall[unique_tags[i]]/(precision[unique_tags[i]]+recall[unique_tags[i]])\n",
        "    f0_5[unique_tags[i]] = 1.25*precision[unique_tags[i]]*recall[unique_tags[i]]/(0.25*precision[unique_tags[i]]+recall[unique_tags[i]])\n",
        "    f2[unique_tags[i]] = 5*precision[unique_tags[i]]*recall[unique_tags[i]]/(4*precision[unique_tags[i]]+recall[unique_tags[i]])\n",
        "  else:\n",
        "    f1[unique_tags[i]] = \"NA\"\n",
        "    f0_5[unique_tags[i]] = \"NA\"\n",
        "    f2[unique_tags[i]] = \"NA\"\n",
        "\n",
        "print(pred_tag)\n",
        "\n",
        "print(f\"Test loss : {testing_loss/len(test_x)}\")\n",
        "print(f\"Precision : {precision}\")\n",
        "print(f\"Recall : {recall}\")\n",
        "print(f\"F1-score : {f1}\")\n",
        "print(f\"F0.5-score : {f0_5}\")\n",
        "print(f\"F2-score : {f2}\")\n"
      ],
      "metadata": {
        "colab": {
          "base_uri": "https://localhost:8080/"
        },
        "id": "l6BG49ZtJ_XX",
        "outputId": "7fd888db-d055-4e98-e824-251b270117e2"
      },
      "execution_count": null,
      "outputs": [
        {
          "output_type": "stream",
          "name": "stdout",
          "text": [
            "[[ 2229  1420   564  1047  1347   241   275   125   215   323    44     3]\n",
            " [ 5322 12219  3410  7014  5163  3642  2107  1709  1199  2094   282    88]\n",
            " [   28    44    39    36    25     8    24    17     5     4     1     2]\n",
            " [ 1746  2574   915  6741  1930  1485  1593   786  1136  2543    83    10]\n",
            " [  151   192    59   122   530     7    56     9    28    72    22     0]\n",
            " [  365   836   271   974   348  9727   499   141   356   492    26    18]\n",
            " [   85   135   116   355    97   116   539     9    98   103     6     2]\n",
            " [  161   228    98   286   136   111   136   515    62   160     8     1]\n",
            " [    1     3     4    20     7    28    23     1   304     0     1     0]\n",
            " [   25    35    14   318    41   136   105    14    43  1560     2     0]\n",
            " [    0     6     2     4     6     4     0     0     0     2    12     0]\n",
            " [    0     0     0     0     0     0     0     0     0     0     0     0]]\n",
            "[[ 2229  1420   564  1047  1347   241   275   125   215   323    44     3]\n",
            " [ 5322 12219  3410  7014  5163  3642  2107  1709  1199  2094   282    88]\n",
            " [   28    44    39    36    25     8    24    17     5     4     1     2]\n",
            " [ 1746  2574   915  6741  1930  1485  1593   786  1136  2543    83    10]\n",
            " [  151   192    59   122   530     7    56     9    28    72    22     0]\n",
            " [  365   836   271   974   348  9727   499   141   356   492    26    18]\n",
            " [   85   135   116   355    97   116   539     9    98   103     6     2]\n",
            " [  161   228    98   286   136   111   136   515    62   160     8     1]\n",
            " [    1     3     4    20     7    28    23     1   304     0     1     0]\n",
            " [   25    35    14   318    41   136   105    14    43  1560     2     0]\n",
            " [    0     6     2     4     6     4     0     0     0     2    12     0]\n",
            " [    0     0     0     0     0     0     0     0     0     0     0     0]]\n",
            "Test loss : 1.5210494161713906\n",
            "Precision : {'DET': 0.28456530065109154, 'NOUN': 0.2761418337137562, 'ADJ': 0.16738197424892703, 'VERB': 0.3129235911243153, 'ADP': 0.42467948717948717, '.': 0.6921653739415071, 'ADV': 0.32450331125827814, 'CONJ': 0.2707676130389064, 'PRT': 0.7755102040816326, 'PRON': 0.680331443523768, 'NUM': 0.3333333333333333}\n",
            "Recall : {'DET': 0.22040937407297537, 'NOUN': 0.6906511417589871, 'ADJ': 0.007101238164603059, 'VERB': 0.3984749068983862, 'ADP': 0.055036344755970926, '.': 0.6273460174137375, 'ADV': 0.10061601642710473, 'CONJ': 0.15484064942874323, 'PRT': 0.08821822402785838, 'PRON': 0.21215830273357814, 'NUM': 0.024640657084188913, 'X': 0.0}\n",
            "F1-score : {'DET': 0.24841190237378805, 'NOUN': 0.3945367365718991, 'ADJ': 0.013624454148471615, 'VERB': 0.35055513663901816, 'ADP': 0.09744438315866888, '.': 0.6581636105284526, 'ADV': 0.15360501567398122, 'CONJ': 0.19701606732976282, 'PRT': 0.1584158415841584, 'PRON': 0.32345013477088946, 'NUM': 0.04588910133843213, 'X': 'NA'}\n",
            "F0.5-score : {'DET': 0.26891060441549036, 'NOUN': 0.3138097879684418, 'ADJ': 0.03035491905354919, 'VERB': 0.3269631857205219, 'ADP': 0.18123375735193542, '.': 0.6781516237433245, 'ADV': 0.2245646196150321, 'CONJ': 0.23550393268703126, 'PRT': 0.30315117670522534, 'PRON': 0.4720121028744326, 'NUM': 0.09508716323296354, 'X': 'NA'}\n",
            "F2-score : {'DET': 0.23081702392047218, 'NOUN': 0.5311823469574063, 'ADJ': 0.008783388135669564, 'VERB': 0.3778163882972761, 'ADP': 0.06663649165157916, '.': 0.6393201267203871, 'ADV': 0.11672224868985231, 'CONJ': 0.16934104958568985, 'PRT': 0.1072234762979684, 'PRON': 0.24601797823687113, 'NUM': 0.03024193548387097, 'X': 'NA'}\n"
          ]
        }
      ]
    },
    {
      "cell_type": "code",
      "source": [
        "# Heatmap\n",
        "\n",
        "seaborn.heatmap(pred_tag)"
      ],
      "metadata": {
        "colab": {
          "base_uri": "https://localhost:8080/",
          "height": 447
        },
        "id": "rQp4ZUYHPR9L",
        "outputId": "2b269048-c23b-493c-c3c7-2c42dc967dfa"
      },
      "execution_count": null,
      "outputs": [
        {
          "output_type": "execute_result",
          "data": {
            "text/plain": [
              "<Axes: >"
            ]
          },
          "metadata": {},
          "execution_count": 40
        },
        {
          "output_type": "display_data",
          "data": {
            "text/plain": [
              "<Figure size 640x480 with 2 Axes>"
            ],
            "image/png": "[encoded data removed]"
          },
          "metadata": {}
        }
      ]
    },
    {
      "cell_type": "code",
      "source": [
        "# Macro scores\n",
        "\n",
        "macro_precision = 0.0\n",
        "NA_precisions = 0\n",
        "for i in precision:\n",
        "  if(precision[i] == \"NA\"):\n",
        "    NA_precisions += 1\n",
        "  else:\n",
        "    macro_precision += precision[i]\n",
        "macro_precision /= (len(tag2id) - NA_precisions)\n",
        "\n",
        "macro_recall = 0.0\n",
        "NA_recalls = 0\n",
        "for i in recall:\n",
        "  if(recall[i] == \"NA\"):\n",
        "    NA_recalls += 1\n",
        "  else:\n",
        "    macro_recall += recall[i]\n",
        "macro_recall /= (len(tag2id) - NA_recalls)\n",
        "\n",
        "macro_f1 = 2*macro_precision*macro_recall/(macro_precision+macro_recall)\n",
        "macro_f0_5 = 1.25*macro_precision*macro_recall/(0.25*macro_precision+macro_recall)\n",
        "macro_f2 = 5*macro_precision*macro_recall/(4*macro_precision+macro_recall)\n",
        "\n",
        "print(f\"Macro precision: {macro_precision}\")\n",
        "print(f\"Macro recall: {macro_recall}\")\n",
        "print(f\"Macro f1 score: {macro_f1}\")\n",
        "print(f\"Macro f0.5 score: {macro_f0_5}\")\n",
        "print(f\"Macro f2 score: {macro_f2}\")"
      ],
      "metadata": {
        "colab": {
          "base_uri": "https://localhost:8080/"
        },
        "id": "A175-2ZXP-km",
        "outputId": "72677a25-8d1e-472c-e033-afd1590aed68"
      },
      "execution_count": null,
      "outputs": [
        {
          "output_type": "stream",
          "name": "stdout",
          "text": [
            "Macro precision: 0.37852528884125025\n",
            "Macro recall: 0.21495773939717785\n",
            "Macro f1 score: 0.2742014060132155\n",
            "Macro f0.5 score: 0.3285280008420455\n",
            "Macro f2 score: 0.2352925647601219\n"
          ]
        }
      ]
    },
    {
      "cell_type": "code",
      "source": [
        "# Micro scores\n",
        "\n",
        "den = 0.0\n",
        "for i in range(len(tag2id)):\n",
        "  for j in range(len(tag2id)):\n",
        "    den += pred_tag[i][j]\n",
        "\n",
        "micro_precision = 0.0\n",
        "for i in range(len(tag2id)):\n",
        "  micro_precision += pred_tag[i,i]\n",
        "micro_precision /= den\n",
        "\n",
        "micro_recall = 0.0\n",
        "for i in range(len(tag2id)):\n",
        "  micro_recall += pred_tag[i,i]\n",
        "micro_recall /= den\n",
        "\n",
        "micro_f1 = 2*micro_precision*micro_recall/(micro_precision+micro_recall)\n",
        "micro_f0_5 = 1.25*micro_precision*micro_recall/(0.25*micro_precision+micro_recall)\n",
        "micro_f2 = 5*micro_precision*micro_recall/(4*micro_precision+micro_recall)\n",
        "\n",
        "print(f\"Micro precision: {micro_precision}\")\n",
        "print(f\"Micro recall: {micro_recall}\")\n",
        "print(f\"Micro f1 score: {micro_f1}\")\n",
        "print(f\"Micro f0.5 score: {micro_f0_5}\")\n",
        "print(f\"Micro f2 score: {micro_f2}\")"
      ],
      "metadata": {
        "colab": {
          "base_uri": "https://localhost:8080/"
        },
        "id": "-1-VMru6SRIE",
        "outputId": "7eb150ec-83ed-4e2f-f0e6-09a08f2c987e"
      },
      "execution_count": null,
      "outputs": [
        {
          "output_type": "stream",
          "name": "stdout",
          "text": [
            "Micro precision: 0.36058548647346034\n",
            "Micro recall: 0.36058548647346034\n",
            "Micro f1 score: 0.36058548647346034\n",
            "Micro f0.5 score: 0.36058548647346034\n",
            "Micro f2 score: 0.36058548647346034\n"
          ]
        }
      ]
    },
    {
      "cell_type": "markdown",
      "source": [
        "# Inference"
      ],
      "metadata": {
        "id": "BjmiiWyGX8Xk"
      }
    },
    {
      "cell_type": "code",
      "source": [
        "# Training example\n",
        "input = ' '.join(words[0])"
      ],
      "metadata": {
        "id": "kNQl-fjFNlDc"
      },
      "execution_count": null,
      "outputs": []
    },
    {
      "cell_type": "code",
      "source": [
        "def infer(input):\n",
        "  # Use for inference\n",
        "  input_tokens = word_tokenize(input.lower())\n",
        "\n",
        "  # Use for training example\n",
        "  # input_tokens = input.lower().strip().split()\n",
        "\n",
        "  input_nums = []\n",
        "\n",
        "  for i in range(len(input_tokens)):\n",
        "    if(input_tokens[i] not in word2id):\n",
        "      input_nums.append(11)\n",
        "    else:\n",
        "      input_nums.append(word2id[input_tokens[i]])\n",
        "\n",
        "  input_tensor = torch.from_numpy(np.array(input_nums)).to(device)\n",
        "\n",
        "  model.eval()\n",
        "  with torch.no_grad():\n",
        "    model.hidden_state = model.hidden_state_initialize()\n",
        "\n",
        "    probs = model(input_tensor, len(input_tensor))\n",
        "\n",
        "    # for p in probs:\n",
        "    #   pred = 0\n",
        "    #   for i in range(1,len(tag2id)):\n",
        "    #     if(p[i] > p[i-1]):\n",
        "    #       pred = i\n",
        "    #   print(unique_tags[pred])\n",
        "\n",
        "    for i in range(len(input_tensor)):\n",
        "      pred = torch.argmax(probs[i])\n",
        "      pred = int(pred)\n",
        "      print(unique_tags[pred])"
      ],
      "metadata": {
        "id": "MKze0vQXYnh1"
      },
      "execution_count": null,
      "outputs": []
    },
    {
      "cell_type": "code",
      "source": [
        "# Inference\n",
        "input = \"On work days, it is expected that a person works\""
      ],
      "metadata": {
        "id": "eal_LwD6YXsr"
      },
      "execution_count": null,
      "outputs": []
    },
    {
      "cell_type": "code",
      "source": [
        "infer(input)"
      ],
      "metadata": {
        "colab": {
          "base_uri": "https://localhost:8080/"
        },
        "id": "hNS8K2O_VSgg",
        "outputId": "f526b572-10ec-4f35-e85b-afe8c5baa06b"
      },
      "execution_count": null,
      "outputs": [
        {
          "output_type": "stream",
          "name": "stdout",
          "text": [
            "DET\n",
            "NOUN\n",
            "NOUN\n",
            "NOUN\n",
            "NOUN\n",
            "NOUN\n",
            "NOUN\n",
            "NOUN\n",
            "NOUN\n",
            "NOUN\n",
            ".\n"
          ]
        }
      ]
    }
  ]
}