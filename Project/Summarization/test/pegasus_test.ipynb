{
  "cells": [
    {
      "cell_type": "markdown",
      "id": "8a842a0a",
      "metadata": {
        "id": "8a842a0a"
      },
      "source": [
        "### Script to generate summaries using chunking based Pegasus approach"
      ]
    },
    {
      "cell_type": "code",
      "source": [
        "from google.colab import drive\n",
        "drive.mount('/content/drive')"
      ],
      "metadata": {
        "colab": {
          "base_uri": "https://localhost:8080/"
        },
        "id": "zEttYp5Pa_94",
        "outputId": "be6ca78d-5fcf-46b3-c7ea-9575a22bfd58"
      },
      "id": "zEttYp5Pa_94",
      "execution_count": null,
      "outputs": [
        {
          "output_type": "stream",
          "name": "stdout",
          "text": [
            "Drive already mounted at /content/drive; to attempt to forcibly remount, call drive.mount(\"/content/drive\", force_remount=True).\n"
          ]
        }
      ]
    },
    {
      "cell_type": "code",
      "execution_count": null,
      "id": "cb972436",
      "metadata": {
        "id": "cb972436"
      },
      "outputs": [],
      "source": [
        "dataset = \"IN-Abs\" # Options: IN - IN-Abs, UK-UK-Abs, N2-IN-Ext\n",
        "output_path = \"./output/\""
      ]
    },
    {
      "cell_type": "code",
      "source": [
        "pip install transformers"
      ],
      "metadata": {
        "colab": {
          "base_uri": "https://localhost:8080/"
        },
        "id": "J7CE4e8BeT35",
        "outputId": "63698ff7-0d35-424a-fe20-323dc21d1f5d"
      },
      "id": "J7CE4e8BeT35",
      "execution_count": null,
      "outputs": [
        {
          "output_type": "stream",
          "name": "stdout",
          "text": [
            "Looking in indexes: https://pypi.org/simple, https://us-python.pkg.dev/colab-wheels/public/simple/\n",
            "Requirement already satisfied: transformers in /usr/local/lib/python3.10/dist-packages (4.28.1)\n",
            "Requirement already satisfied: huggingface-hub<1.0,>=0.11.0 in /usr/local/lib/python3.10/dist-packages (from transformers) (0.14.1)\n",
            "Requirement already satisfied: packaging>=20.0 in /usr/local/lib/python3.10/dist-packages (from transformers) (23.1)\n",
            "Requirement already satisfied: requests in /usr/local/lib/python3.10/dist-packages (from transformers) (2.27.1)\n",
            "Requirement already satisfied: filelock in /usr/local/lib/python3.10/dist-packages (from transformers) (3.12.0)\n",
            "Requirement already satisfied: pyyaml>=5.1 in /usr/local/lib/python3.10/dist-packages (from transformers) (6.0)\n",
            "Requirement already satisfied: numpy>=1.17 in /usr/local/lib/python3.10/dist-packages (from transformers) (1.22.4)\n",
            "Requirement already satisfied: regex!=2019.12.17 in /usr/local/lib/python3.10/dist-packages (from transformers) (2022.10.31)\n",
            "Requirement already satisfied: tqdm>=4.27 in /usr/local/lib/python3.10/dist-packages (from transformers) (4.65.0)\n",
            "Requirement already satisfied: tokenizers!=0.11.3,<0.14,>=0.11.1 in /usr/local/lib/python3.10/dist-packages (from transformers) (0.13.3)\n",
            "Requirement already satisfied: typing-extensions>=3.7.4.3 in /usr/local/lib/python3.10/dist-packages (from huggingface-hub<1.0,>=0.11.0->transformers) (4.5.0)\n",
            "Requirement already satisfied: fsspec in /usr/local/lib/python3.10/dist-packages (from huggingface-hub<1.0,>=0.11.0->transformers) (2023.4.0)\n",
            "Requirement already satisfied: certifi>=2017.4.17 in /usr/local/lib/python3.10/dist-packages (from requests->transformers) (2022.12.7)\n",
            "Requirement already satisfied: charset-normalizer~=2.0.0 in /usr/local/lib/python3.10/dist-packages (from requests->transformers) (2.0.12)\n",
            "Requirement already satisfied: urllib3<1.27,>=1.21.1 in /usr/local/lib/python3.10/dist-packages (from requests->transformers) (1.26.15)\n",
            "Requirement already satisfied: idna<4,>=2.5 in /usr/local/lib/python3.10/dist-packages (from requests->transformers) (3.4)\n"
          ]
        }
      ]
    },
    {
      "cell_type": "code",
      "execution_count": null,
      "id": "1a83915a",
      "metadata": {
        "id": "1a83915a"
      },
      "outputs": [],
      "source": [
        "import pandas as pd\n",
        "import numpy as np\n",
        "import glob\n",
        "import sys\n",
        "sys.path.insert(0, '../')\n",
        "from utilities import *\n",
        "import os\n",
        "import nltk"
      ]
    },
    {
      "cell_type": "code",
      "execution_count": null,
      "id": "049e7a6f",
      "metadata": {
        "id": "049e7a6f"
      },
      "outputs": [],
      "source": [
        "if not os.path.exists(output_path):\n",
        "    os.makedirs(output_path)"
      ]
    },
    {
      "cell_type": "code",
      "execution_count": null,
      "id": "0591966a",
      "metadata": {
        "id": "0591966a",
        "colab": {
          "base_uri": "https://localhost:8080/"
        },
        "outputId": "09d734e2-0f60-45cf-abc9-73af2d09fa64"
      },
      "outputs": [
        {
          "output_type": "stream",
          "name": "stdout",
          "text": [
            "100\n",
            "100\n",
            "100\n",
            "['']\n"
          ]
        }
      ],
      "source": [
        "#Reading the test documents\n",
        "names, data_source, data_summary = get_summary_data(dataset, \"test\")\n",
        "print(len(names))\n",
        "print(len(data_source))\n",
        "print(len(data_summary))\n",
        "len_dic = dict_names = get_req_len_dict(dataset, \"test\")"
      ]
    },
    {
      "cell_type": "code",
      "source": [
        "names\n"
      ],
      "metadata": {
        "colab": {
          "base_uri": "https://localhost:8080/"
        },
        "id": "vQ-sGKnFHZfY",
        "outputId": "8e97e977-ca39-47ea-fe35-0f0b80400a21"
      },
      "id": "vQ-sGKnFHZfY",
      "execution_count": null,
      "outputs": [
        {
          "output_type": "execute_result",
          "data": {
            "text/plain": [
              "['3210.txt',\n",
              " '6270.txt',\n",
              " '362.txt',\n",
              " '3356.txt',\n",
              " '2657.txt',\n",
              " '2913.txt',\n",
              " '4963.txt',\n",
              " '5266.txt',\n",
              " '3602.txt',\n",
              " '5861.txt',\n",
              " '1181.txt',\n",
              " '2796.txt',\n",
              " '6668.txt',\n",
              " '1195.txt',\n",
              " '3292.txt',\n",
              " '3542.txt',\n",
              " '3844.txt',\n",
              " '1329.txt',\n",
              " '1778.txt',\n",
              " '6276.txt',\n",
              " '4316.txt',\n",
              " '5994.txt',\n",
              " '5141.txt',\n",
              " '4917.txt',\n",
              " '5597.txt',\n",
              " '5364.txt',\n",
              " '3531.txt',\n",
              " '4641.txt',\n",
              " '2609.txt',\n",
              " '2392.txt',\n",
              " '1697.txt',\n",
              " '2124.txt',\n",
              " '2727.txt',\n",
              " '6521.txt',\n",
              " '1974.txt',\n",
              " '652.txt',\n",
              " '6728.txt',\n",
              " '5397.txt',\n",
              " '6852.txt',\n",
              " '3893.txt',\n",
              " '6778.txt',\n",
              " '2207.txt',\n",
              " '3924.txt',\n",
              " '6118.txt',\n",
              " '5707.txt',\n",
              " '4782.txt',\n",
              " '715.txt',\n",
              " '415.txt',\n",
              " '3436.txt',\n",
              " '4568.txt',\n",
              " '6413.txt',\n",
              " '78.txt',\n",
              " '1762.txt',\n",
              " '266.txt',\n",
              " '6647.txt',\n",
              " '2035.txt',\n",
              " '6622.txt',\n",
              " '314.txt',\n",
              " '5248.txt',\n",
              " '2593.txt',\n",
              " '2649.txt',\n",
              " '2440.txt',\n",
              " '1531.txt',\n",
              " '5538.txt',\n",
              " '4807.txt',\n",
              " '2248.txt',\n",
              " '496.txt',\n",
              " '2052.txt',\n",
              " '2065.txt',\n",
              " '6881.txt',\n",
              " '3168.txt',\n",
              " '1378.txt',\n",
              " '2122.txt',\n",
              " '5937.txt',\n",
              " '380.txt',\n",
              " '4451.txt',\n",
              " '6157.txt',\n",
              " '5142.txt',\n",
              " '4860.txt',\n",
              " '4938.txt',\n",
              " '2256.txt',\n",
              " '2627.txt',\n",
              " '690.txt',\n",
              " '1789.txt',\n",
              " '3019.txt',\n",
              " '784.txt',\n",
              " '660.txt',\n",
              " '4480.txt',\n",
              " '1406.txt',\n",
              " '4071.txt',\n",
              " '5888.txt',\n",
              " '1522.txt',\n",
              " '3442.txt',\n",
              " '5471.txt',\n",
              " '6245.txt',\n",
              " '7130.txt',\n",
              " '2304.txt',\n",
              " '232.txt',\n",
              " '7109.txt',\n",
              " '6003.txt']"
            ]
          },
          "metadata": {},
          "execution_count": 7
        }
      ]
    },
    {
      "cell_type": "code",
      "source": [
        "data_source[0]"
      ],
      "metadata": {
        "colab": {
          "base_uri": "https://localhost:8080/",
          "height": 145
        },
        "id": "jRcLS-xwWfFL",
        "outputId": "946108db-6fc4-4b60-9b2e-7dab155742c9"
      },
      "id": "jRcLS-xwWfFL",
      "execution_count": null,
      "outputs": [
        {
          "output_type": "execute_result",
          "data": {
            "text/plain": [
              "'Appeal No. 1604 of 1967.\\nFrom the judgment and order dated the 8th February, 1967 of Le Delhi High Court in Civil Writ No. 531 D of 1964.\\nP.P. Rao and R. N. Sachthey, for the appellants.\\nG.P. Pai, P. C. Bhartari and O. C. Mathur, for respondents nos.\\n1 & 2.\\nThe Judgment of the Court was delivered by SARKARIA J.\\nWhether the Federation of Indian Chambers of Commerce and Industry, New Delhi (Respondent 1) is a \"commercial establishment\" within the meaning of s.2(5) of the Delhi Shops ,and Establishments Act, 1954 (for short the Act) is the sale question that falls for determination in this appeal by certificate directed against the judgment dated February 8, 1967 of the High Court of Delhi.\\nThe facts bearing on this question may now be stated: Respondent 1 (hereinafter referred to as the Federation) is a Company registered under section 26 of the Indian Companies Act, 1913.\\nThe primary objects of the Federation as given in the Memorandum of Association are \"(a) To promote Indian business in matters of inland and foreign trade, transport, industry and manufactures, finance and all other economic subjects and to encourage Indian banking, shipping and insurance.\\n(b) To encourage friendly feeling end unanimity among business community and association on all subjects connected with the common good of Indian business.\\n(c) To secure organised action on all subjects mentioned above.\\n(d) To collect and disseminate statistical and other information and to make effort for the spread of commercial and economic knowledge.\\n(e) To take all steps by lawful means which may be necessary for promoting supporting or opposing legislation or other action affecting the aforesaid economic interests and in general to take the initiative to assist and promote trade commerce and industry.\\n(f)To provide for arbitration in respect of disputes arising, in the course of trade, industry or transport or other business matters, and to secure the services 350 of expert technical and other men to that end if necessary or desirable.\\n(g) To conduct, undertake the conduct of and participate in national and international exhibitions.\\n(h) To set up museums or show rooms, to exhibit the products of India and other countries and to participate in such activities.\\n(1) To secure the interests and well being of the Indian business communities abroad.\\n(k) To attain those advantages by united action which each member may not be able to accomplish in its separate capacity.\\n(m) To help in the Organisation of Chambers of Commerce or Commercial Associations in different commercial centres of the country.\\n(n) (O) (p) (q) (r) (s) (t) (u) (v) (x) (y) To sell or dispose of the undertaking of the Federation or any part thereof for such consideration as the Federation may think fit and in particular for shares, debentures, or securities of any other association or company having objects altogether or in similar to those of the Federation.\\n(z) To take or otherwise acquire and hold shares in any other association or company having objects altogether or in part similar to those of the Federation.\\n(zl) To establish a Trust or Trusts and/or appoint Trustees thereof from time to time and vest the funds or the surplus income or any property of the Federation in the Trustees who shall hold and deal with the funds, surplus income or property in such manner as the Committee may decide.\\n(z2) 351 (z3)To draw, make, accept, discount, execute and issue bills of exchange, promissory notes, bills of lading, warrants, debentures and other negotible instruments or securities.\\n(z4) (4) The income and property of the Federation, whencesoever derived, shall be applied solely towards the promotion of the objects of the Federation as set forth in the Memorandum of Association; and no portion thereof shall be paid or transferred directly or indirectly, by way of dividend, bonus, or otherwise by way of profit to the members of the Federation.\\nThe Articles of Association inter alia provide that a Chamber or an Association can become an ordinary member of the Federation on payment of annual subscription of Rs. 1,000,/ or such higher amount as may from time to time be fixed by the Federation in addition to the admission fee of Rs. 5001 .\\nThe scales of subscription on the basis of turnover, deposits or premia for associate members have also been prescribed.\\nThe Chief Inspector of Shops and Establishments, Delhi (Appellant 2 herein) called upon the Federation to register its establishment \\'he under the Act The Federation failed to comply with the direction and contended that it was not an \"establishment\" as defined in section 2(9) of the Act.\\nThis contention did not find favour with the Chief Inspector who, in consequence, made a complaint under the Act for prosecution of the Secretary of the Federation (Respondent 2 herein) under the appropriate penal provisions of the Act in the Court of the Magistrate.\\n1st Class, Parliament Street, New Delhi.\\nThe Federation then moved the High Court under Article 226 of the Constitution for bringing up and quashing the order, dated February 4, 1964 passed by the Chief Inspector (Appellant 2).\\nThey further prayed for a writ of Prohibition directing the Magistrate not to proceed with the complaint.\\nBefore the High Court, the contention of the Federation was that the premises in which the registered office of the Federation is located is not a \"commercial establishment\" within the meaning of section 2(5) of the Act which, in consequence had no application.\\nFrom the side of the present appellant, at first a half hearted attempt was made to show that the Federation is carrying on a profession as it is \"tendering advice to all businessmen and traders\".\\nThis contention was negatived in these terms : \" . that contention overlooks the fact that the advice in question is not tendered for any consideration.\\nIt is done in the interest of trade and business of the country.\\nThe 1st petitioner is not tendering any advice or giving any assistance to any trader in particular.\\nIt deals with the trade or busi ness in general to secure the interest of the country.\\nit is predominantly a charitable organization and not a professional one.\\n\" 352 It was then contended that the activities of the Federation carried on in the premises in question amounted to \"work in connection with, or incidental or ancillary\" to trade or business in general within the latter part of the definition of \"commercial establishment\".\\nThis contention was also rejected with the observation that since the earlier part of the definition refers to \"some particular business or trade carried on in a premises\" the words \"any work in connection with or incidental or necessary thereto\" obviously refer to such particular business or trade and not to trade or business in general \\'.\\nIn the result, it was held that the premises of the Federation were not a commercial establish ment, and the writ petition was allowed.\\nA certificate, however, was granted under Article 133(1) (c) of the Constitution that the case was fit for appeal to this Court.\\nHence this appeal.\\nBefore dealing with the contentions canvassed before us, it will be useful to notice briefly, the scheme and the relevant provisions of the Act.\\nThe title of the Act is Delhi Shops and Establishments Act, 1954.\\nThe main object of the Act as stated in its preamble is \"regulation of hours of work, payment of wages, leave, holiday, terms of service and other conditions of work of persons employed in shop, commercial establishment, establishments for, public entertainment or amusement and other establishments and to provide for certain matters connected therewith.\" Section 1(4) indicates its extent and application.\\nIt shall apply in the first instance.\\nonly to the municipal areas, notified areas of Delhi and New, Delhi etc., but Government may by notification extend or apply it to shops and establishments in the other local area or areas.\\nThe definitions of \"commercial establishment\", \"establishment\" and \"shop\" given in sub sections (5), (9) and (27) of section 2 are material for our purpose.\\nThey read \"Commercial establishment\" means any premises wherein any trade, business or profession or any work in connection with, or incidental or ancillary thereto is carried on and includes a society registered under the , and charitable or other trust, whether registered or not, which carries on any business, trade or profession or work in connection with or incidental or ancillary thereto, \\' journalistic and printing establishments, quarries and mines not governed by the , educational or other Institutions run for private gain and premises in which business of banking, insurance, stocks and shares, brokerage or produce exchange is, carried on, but does not include a shop or a factory registered under the , or theaters, cinemas, restaurants, eating houses residential hotels, clubs or other places of public amusement or entertainment.\\n\" \"Establishment\" means a shop, a commercial establishment, residential hotel, restaurant, eating house, theatre or other places of public amusement or entertainment to which this Act applies and includes such other establishment as Government may by notification in the Official Gazette, 35 3 declare to be an establishment for the purposes of the Act.\\n\" \" Shop\" means any premises where goods are sold, either by retail or wholesale Or where services are rendered to customers, and includes an office, a stoic room, godown, warehouse or workhouse, or work place, whether in the same premises or otherwise, used in or in connection with such trade or business but does not include a factory or commercial establishment.\\n\" It will be seen that while the definition of \"establishment\" includes, a \\'shop \\' and \\'commercial establishment, the definitions of \\'shop \\' and commercial establishment \\' are mutually exclusive.\\nFurther, the definition of \"commercial establishment\" is wider than that of \"shop\".\\nA place in order to fall within the definition of \"commercial Establishment\" must in the first instance be \"premises\".\\nSecondly, it should be premises wherein (a) any trade, business or profession is carried on, or (b) any work in connection with or incidental or ancillary thereto is carried on.\\nSub clause (b) is only ancillary to (a).\\nThere is no, doubt that the registered office of the Federation is premises.\\nThe controversy centres round the questions whether the activity of the Federation carried on in these premises is a \"trade, business or profession\" within the meaning of pari (a) of the definition.\\nThis question is not res integra.\\nIt came up for consideration before this Court in Management of the Federation of Indian Chambers of Commerce and Industry vs Their workman, Shri R. K. Mittal.(1) After considering its Memorandum of Association, Articles of Association and other material, which was more or less the same, as in the present case, it was held by this Court that the activity of this Federation is in the nature of a business or trade.\\nMr. Rao, learned Counsel for the appellants strongly relies on the aforesaid decision.\\nMr. Pai, learned Counsel for the Federation has firstly raised a preliminary objection that before the High Court, at no stage, it was urged on behalf of the Appellants that the activity of the Federation carried on in the premises was a business or trade.\\nIt is added that a half hearted argument was adVanced that its activity was a \\'profession \\' and that, too, was soon given UP In these circumstances, it is submitted, the appellants should not be allowed to commit a volte face and take up in this Court a stand which was either not taken or was given no in the High Court.\\nIn the alternative, learned Counsel contends that even if this plea is allowed to be raised, then also the primary activity of the Federation cannot, by any stretch of reasoning, be called a \\'trade, business of profession within the definition of \"commercial establishment\" given in the Act.\\nAccording to Counsel, the activity of the Federation is one of general utility; the only source of its income is from subscriptions.\\nThe occasional exhibitions or , museums organised by it are activities which are only incidental or ancillary to the primary charitable object of the Federation.\\nNo divi (1) [1972] 2 S.C.R. 353.\\n354 dends are declared, no profits are shared or divided among the Individual members, and no goods are sold or exchanged.\\nin support of his contentions, learned Counsel has referred to Commissioner of Income tax vs Andhra Chamber of Commerce.\\n(,) Mr. Pai further maintains that the ratio in R. K. Mittal \\'s case (supra) is not applicable to the instant case because the definition of \" \\'industry\" in section 2(j) of the is far wider than that of \"commercial establishment\" in section 2(5) of the Act.\\nMr. Pai further doubts the correctness of the decision in R. K. Mittal \\'s case (supra) inasmuch as it holds that the activity of the Federation partakes the character of trade or business.\\nThis finding, it is urged, is based on a misapprehension of facts and requires reconsideration.\\nIt is pointed out that it was wrongly assumed in Mittal \\'s case (supra) that the Federation, was systematically assisting not only its members but also other business men and industrialists even if they were not its members.\\nThe fact of the matter is that the Respondent is a Federation of Federations and not an association of any individual traders, industrialists or businessmen.\\nAs regards the preliminary objection, it is true that before the High Court, it was not argued that the activity of the Federation amounts to the carrying on of any business or trade in the premises in question.\\nAll that was attempted to argue there was, that its activity amounted to a \\'profession \\'.\\nAlternatively, it was contended that the case fell within part (b) of the definition of \"commercial establishment\" inasmuch as its activities were connected with trade and business, generally.\\nWe do not think it proper to shut out the contentions now raised before us about the activity of the Federation being a trade or business, merely on the ground, that the point was not properly put before the High Court.\\nThis point will not require any additional material for its decision.\\nThe question is only of drawing a correct inference \\'about the point in issue from the material already on record.\\nWe, therefore, overrule the preliminary objection.\\nThis takes us to the merits of the case.\\nIn R. K. Mittal \\'s case, this Court was considering the activity of this Federation in the context of \\'industry \\' as defined in s.2(j) of the .\\nThat definition reads: \" \"Industry\" means any business, trade, undertaking, manufacture or calling of employers and includes any calling, service, employment, handicraft or industrial occupa tion or evocation of workmen.\\n\" It will be seen that \"any business, trade\" is an element common to the definitions of \"commercial establishment\" and \"industry\" given in the respective statutes.\\nThat was why the question, whether the ,activity of the Federation is a business or trade activity, was directly (1) ; 355 and substantially in issue in R. K. Mittal \\'s case.\\ntherein, the Memorandum of Association, Articles of Association and the other material placed before the court were closely examined.\\nThe entire case law was surveyed.\\nThe contentions now canvassed were also raised and considered in that case.\\nJagnmohan Reddy J. speaking for the Court,.\\nposed the question for decision thus : \"In our view the linch pin of the definition of \\'industry \\' is to ascertain the systematic activity which the organization is discharging namely, whether it partakes the nature of a business or trade; or is an undertaking or manufacture or calling of employers\".\\n(emphasis added) The answer given to this question has been correctly summed up, in the head note of the Report, as under: \"The above being the position in law the were fact that the appellant Federation had charitable aims and objects would not take it out of the definition of industry.\\nAn examination of the activities of the Federation showed that the Federation carried on systematic activities to assist its members and other businessmen and industrialists and even to non members as for instance in giving them the right to subscribe to their bulletin; in taking up their cases and solving their difficulties and in obtaining concessions and facilities from them from the Government.\\nThese activities were business activities and material services rendered to businessmen, traders and industrialists who are members of the constituents of the Federation.\\nThere could be no doubt that the Federation was an industry within the meaning of s.2(j) of the Act.\" (The crucial words are those that have been underlined).\\nThe case under the Income tax Act wherein the main object of the organization was charitable, were also considered and found of little assistance.\\nIt was observed that: \"the object of an Organisation may be charitable but nevertheless its activity may be commercial so as to satisfy the definition of an industry as explained and illustrated by this Court particularly in Safdarjang Hospital \\'s case.(1) We could therefore envisage an institution having its aims and objects charitable and yet its activities could bring it within the definition of industry\".\\nThe above observations were made in the context of the definition of industry \\' but they are equally applicable in the present case.\\nThe very definition of \"commercial establishment\" indicates that the activity of a registered society, charitable or other trust will not take it out of the definition if the activity carried on by it amounts to a busi (1)[1971] 1, S.C.R. 177.\\n356 ness, trade or profession or any work in connection therewith or incidental thereto.\\nNo doubt, the effective membership as distinguished from Honorary membership of the Federation is open only to Chambers of Commerce or Commercial Associations of requisite strength and standing, but the fact remains that it carries on systematic activities not only to assist its members but also other traders or businessmen members of the constituents of the Federation.\\nIt has set up Tribunals for arbitration in disputes arising between individual traders or business concerns in the course of trade, industry or other business matters.\\nIt takes up with the concerned authorities the specific difficulties experienced by the trade in the day today business and endeavours to attain for the traders and industrialists those material advantages by unified action which they may not be able to achieve in their individual capacity.\\nIt helps businessmen and industrialists by securing for them the services of expert technical men (vide clauses (f) and (k) of the Memorandum of Association).\\nIt undertakes regular publication of periodicals, bulletins, Reviews etc.\\nfor the benefit of businessmen, big or small and whether or not they are members of the Federation.\\nThese publications are available on payment of subscription or price even to individual businessmen or traders who are not members of the Federation.\\nAll these are business activities are carried on systematically.\\nWe therefore do not think that R. K. Mittal \\'s case (supra) was incorrectly decided and needs reconsideration.\\nIt is true that in R. K. Mittal \\'s case (supra) it was held that these activities of the Federation are also in the nature of material services within the wider definition of \\'industry \\'.\\nThough the rendering or services is not specifically mentioned as an element of the definition of \"commercial establishment\", yet this very element appears in the definition of \\'shop \\' in section 2(27) of the Act.\\nAny premises where services are rendered to customers fall within the definition of a \"shop\".\\nThese services are material services.\\nFor the application of the Act to the Federation, it is immaterial whether its activities bring its premises within the ambit of a \"shop\" or a \"commercial establishment \\'.\\nIt is well settled that a systematic activity can be a business activity even if no dividends are declared or profits shared.\\nIn the matter.\\nof Incorporated Council of Law Reporting for England and Wales, (1) the Queens Bench was considering the interpretation of the expression \"trade or business\" in section 11 of the English Customs and Inland Revenue Act 1885 with reference to the activity of the Incorporated Council of Law Reporting for England and Wales.\\nThe association was established for the objects of preparing and publishing under gratuitous professional control, reports of judicial decisions; of issuing digests and other publications relating to legal subjects.\\nIn carrying them out the association employed editors, reporters, printers, and publishers and supplied its publications to subscribers and others for payment.\\nIt was condended that the activity of the Association was not \"a business or trade\" because by the Memorandum of Associ (1) 357 ation all the property and income of the association were applicable solely to the promotion of the above objects, and no part thereof could be paid as dividend or otherwise, to any member.\\nHolding that the association was established for a \"trade or business\", Lord Coleridge C. J. repelled the contention in these terms: \"Though it may be true that in the great majority of cases the carrying on of a trade does, in fact, include the idea of profit, yet the definition of the mere word \\'trade \\' does not necessarily mean something by which a profit is made.\\nBut putting aside the question whether they carry on a trade, how can it be denied that the Council carry on a business? They are incorporated; they have a secretary; they employ editors, reporters, and printers; they print books, they sell those books, they do all that is ordinarily done in carrying on the business of a bookseller.\\n\" The above observations apply mutatis mutandis to the activity of the Federation.\\nIt will bear repetition that the Federation also publishes periodicals, bulletins etc.\\nand issues the same to member free of this Court in R. K. Mittal \\'s case (supra) we would hold that the commercial or industrial exhibitions, runs museums and makes profits.\\nOf course, that profit is ploughed back for the purposes of the Federation as set out in its Memorandum of Association, and is not distributed among its members.\\nBut that does not alter the \\'fact that its activity is a trading or business activity.\\nFor all the foregoing reasons, particularly in view of the decision of this Court in R. K. Mittals case, (supra) we would hold that the pre premises of the Federation are a \"commercial establishment\" within the meaning of section 2(5) of the Act.\\nIn the result we allow this appeal, set aside the judgment of the High Court and dismiss the writ petition.\\nIn the circumstances of the case we make no order as to costs.\\nV.P.S. Appeal allowed.\\n'"
            ],
            "application/vnd.google.colaboratory.intrinsic+json": {
              "type": "string"
            }
          },
          "metadata": {},
          "execution_count": 8
        }
      ]
    },
    {
      "cell_type": "code",
      "source": [
        "data_summary[0]"
      ],
      "metadata": {
        "colab": {
          "base_uri": "https://localhost:8080/",
          "height": 145
        },
        "id": "-pzh3IUdH779",
        "outputId": "0a6e54e8-67ca-41f9-e537-67c2377f52c4"
      },
      "id": "-pzh3IUdH779",
      "execution_count": null,
      "outputs": [
        {
          "output_type": "execute_result",
          "data": {
            "text/plain": [
              "\"The respondent was required by the Chief Inspector of Shops and Establishments to register its establishment ' under the Delhi Shops and Establishments Act, 1954.\\nThe respondent contended that it was not an 'establishment ' which is defined in section 2(9) as meaning 'a shop or a commercial estab lishment ' and did not comply with the direction.\\nProceedings for prosecution of its Secretary were instituted, where upon the respondent filed a petition in the High Court for quashing the order of the appellant and for directing the Magistrate not to proceed with the complaint.\\nBefore the High Court the appellant contended that the respondent was a 'commercial establishment ' because, the activity of the respondent amounted to a 'Profession ', and alternatively, that the case fell within the latter part of the definition of 'commercial establishment ' in section 2(5), inasmuch as its activities were connected with trade and business generally, but, it was not urged that the activity of the respondent amounted to carrying on any 'business or trade ' in its premises.\\nThe writ petition was allowed by the High Court, holding that premises of the respondent were not a 'commercial establishment '.\\nIn appeal to this Court it was contended that the activities of the respondent amounted to a 'trade or business ', that therefore it was a 'commercial establishment ' and that the matter was covered by Management of the Federation of Indian Chambers of Commerce and Industry vs Sri R. K. Mittal [1972] 2 S.C.R. 353.\\nAllowing the appeal.\\nHELD : (1) It is not proper to shut out the contentions of the appellant now raised about the activity of the respondent being a 'trade or business ' merely on the ground that the point was not properly put before the High Court.\\nThe question is only one of drawing a correct inference about the point in issue from the material already on record and will not require any additional material for decision.\\n[354E F] (2)A place, in order to fall within the definition of 'commercial establishment ' must, in the first instance, be 'premises '.\\nand secondly, should be premises wherein, (a) any trade, business or profession is carried on, or (b) any work in connection with or incidental or ancillary thereto is carried on.\\n[353C D] (3) The registered office of the respondent is 'premises '.\\n[353D] (4) All the activities of the respondent are business activities and are carried on systematically.\\nThough the profit made by it is ploughed back for its purposes as set out in its Memorandum of Association and is not distributed among its members.\\nTherefore, the decision in Mittal 's case [1972] 2 S.C.R. 353 that the activity of the respondent is in the nature of 'business or trade ' is correct and that case does not require reconsideration.\\n[356A E. 357D E] (5)A systematic activity can be a business activity even if no dividends are declared or profits shared.\\n[356F G] In the matter of Incorporated Council of Law Reporting for England and Wales , applied.\\n(6)The premises of the respondent, therefore, are a 'commercial establishment.\\n[357E] 349 (7)For the application of the Act to the respondent it is immaterial whether its activities bring its premises within the ambit of a 'shop ' or 'commercial establishment, within the meaning of the Act.\\nIn Mittal 's case it was held that the activities of the respondent are also in the nature of material services within the wider definition of 'industry ' and, any premises where services are rendered to customers fall within the definition of a 'shop.\\n[356E F]\\n\""
            ],
            "application/vnd.google.colaboratory.intrinsic+json": {
              "type": "string"
            }
          },
          "metadata": {},
          "execution_count": 9
        }
      ]
    },
    {
      "cell_type": "code",
      "execution_count": null,
      "id": "14b68b70",
      "metadata": {
        "id": "14b68b70"
      },
      "outputs": [],
      "source": [
        "device = \"cuda\""
      ]
    },
    {
      "cell_type": "code",
      "source": [
        "pip install sentencepiece"
      ],
      "metadata": {
        "colab": {
          "base_uri": "https://localhost:8080/"
        },
        "id": "G01anIrfXS-p",
        "outputId": "99afbdb8-1b93-4ad4-a2e0-6bcf3ebb34e1"
      },
      "id": "G01anIrfXS-p",
      "execution_count": null,
      "outputs": [
        {
          "output_type": "stream",
          "name": "stdout",
          "text": [
            "Looking in indexes: https://pypi.org/simple, https://us-python.pkg.dev/colab-wheels/public/simple/\n",
            "Requirement already satisfied: sentencepiece in /usr/local/lib/python3.10/dist-packages (0.1.98)\n"
          ]
        }
      ]
    },
    {
      "cell_type": "code",
      "execution_count": null,
      "id": "0596cefd",
      "metadata": {
        "id": "0596cefd"
      },
      "outputs": [],
      "source": [
        "# Loading Model and tokenizer\n",
        "from transformers import AutoTokenizer, AutoModelForSeq2SeqLM\n",
        "from transformers import PegasusForConditionalGeneration, PegasusTokenizer, Trainer, TrainingArguments\n",
        "\n",
        "tokenizer = AutoTokenizer.from_pretrained(\"nsi319/legal-pegasus\")\n",
        "model = AutoModelForSeq2SeqLM.from_pretrained(\"nsi319/legal-pegasus\").to(device)\n"
      ]
    },
    {
      "cell_type": "code",
      "execution_count": null,
      "id": "49734483",
      "metadata": {
        "id": "49734483"
      },
      "outputs": [],
      "source": [
        "def summerize(text, max_len, min_len):\n",
        "    '''\n",
        "    Function to generate summary using Pegasus\n",
        "    input:  nested_sentences - chunks\n",
        "            max_l - Maximum length\n",
        "            min_l - Minimum length\n",
        "    output: document summary\n",
        "    '''\n",
        "    try:\n",
        "        input_tokenized = tokenizer.encode(text, return_tensors='pt',max_length=512,truncation=True).to(device)\n",
        "        summary_ids = model.generate(input_tokenized,\n",
        "                                          num_beams=9,\n",
        "                                          length_penalty=0.1,\n",
        "                                          min_length=min_len,\n",
        "                                          max_length=max_len,\n",
        "                                    )\n",
        "        summary = [tokenizer.decode(g, skip_special_tokens=True, clean_up_tokenization_spaces=False) for g in summary_ids][0]\n",
        "        return summary\n",
        "    except:\n",
        "        return \"\""
      ]
    },
    {
      "cell_type": "code",
      "execution_count": null,
      "id": "e7f05633",
      "metadata": {
        "id": "e7f05633"
      },
      "outputs": [],
      "source": [
        "def summerize_doc(nested_sentences, p):\n",
        "    '''\n",
        "    Function to generate summary using chunking based Pegasus\n",
        "    input:  nested_sentences - chunks\n",
        "            p - Number of words in summaries per word in the document\n",
        "    output: document summary\n",
        "    '''\n",
        "    device = 'cuda'\n",
        "    result = []\n",
        "    for nested in nested_sentences:\n",
        "        l = int(p * len(nested.split(\" \")))\n",
        "        max_len = l\n",
        "        min_len = l-5\n",
        "        result.append(summerize(nested, max_len, min_len))\n",
        "    return result"
      ]
    },
    {
      "cell_type": "code",
      "execution_count": null,
      "id": "fd0385a1",
      "metadata": {
        "id": "fd0385a1"
      },
      "outputs": [],
      "source": [
        "done_files = glob.glob(output_path + \"*.txt\")\n",
        "done_files = [i[i.rfind(\"/\")+1:] for i in done_files]"
      ]
    },
    {
      "cell_type": "code",
      "source": [
        "import nltk\n",
        "nltk.download('punkt')"
      ],
      "metadata": {
        "colab": {
          "base_uri": "https://localhost:8080/"
        },
        "id": "JJfNOSngNtXY",
        "outputId": "7f1da913-a921-464b-8743-55329086d6a8"
      },
      "id": "JJfNOSngNtXY",
      "execution_count": null,
      "outputs": [
        {
          "output_type": "stream",
          "name": "stderr",
          "text": [
            "[nltk_data] Downloading package punkt to /root/nltk_data...\n",
            "[nltk_data]   Unzipping tokenizers/punkt.zip.\n"
          ]
        },
        {
          "output_type": "execute_result",
          "data": {
            "text/plain": [
              "True"
            ]
          },
          "metadata": {},
          "execution_count": 17
        }
      ]
    },
    {
      "cell_type": "code",
      "execution_count": null,
      "id": "0da2186e",
      "metadata": {
        "id": "0da2186e",
        "colab": {
          "base_uri": "https://localhost:8080/"
        },
        "outputId": "823cddd5-c1b1-48fd-94cd-3565b7d1ac73"
      },
      "outputs": [
        {
          "output_type": "stream",
          "name": "stdout",
          "text": [
            "0: 3210.txt - 3650 : 603, 0.1652054794520548\n",
            "513\n",
            "513\n",
            "1: 6270.txt - 2029 : 421, 0.2074913750616067\n",
            "382\n",
            "382\n",
            "2: 362.txt - 6285 : 1038, 0.16515513126491646\n",
            "910\n",
            "910\n",
            "3: 3356.txt - 1874 : 354, 0.18890074706510138\n",
            "284\n",
            "284\n",
            "4: 2657.txt - 2382 : 432, 0.181360201511335\n",
            "371\n",
            "371\n",
            "5: 2913.txt - 1949 : 488, 0.2503848127244741\n",
            "433\n",
            "433\n",
            "6: 4963.txt - 1286 : 596, 0.463452566096423\n"
          ]
        }
      ],
      "source": [
        "# main loop to generate and save summaries of each document in the test dataset\n",
        "for i in range(len(data_source)):\n",
        "    done_files = glob.glob(output_path + \"*.txt\")\n",
        "    done_files = [i[i.rfind(\"/\")+1:] for i in done_files]\n",
        "    name = names[i]\n",
        "    if name in done_files:continue\n",
        "    doc = data_source[i]\n",
        "    input_len = len(doc.split(\" \"))\n",
        "    req_len = dict_names[name]\n",
        "    print(str(i) + \": \" + name +  \" - \" + str(input_len) + \" : \" + str(req_len), end = \", \")\n",
        "\n",
        "    nested = nest_sentences(doc,512)\n",
        "    p = float(req_len/input_len)\n",
        "    print(p)\n",
        "    abs_summ = summerize_doc(nested,p)\n",
        "    abs_summ = \" \".join(abs_summ)\n",
        "    print(len((abs_summ.split(\" \"))))\n",
        "\n",
        "    if len(abs_summ.split(\" \")) > req_len:\n",
        "        abs_summ = abs_summ.split(\" \")\n",
        "        abs_summ = abs_summ[:req_len]\n",
        "        abs_summ = \" \".join(abs_summ)\n",
        "    print(len((abs_summ.split(\" \"))))\n",
        "    path = output_path + name\n",
        "    file = open(path,'w')\n",
        "    file.write(abs_summ)\n",
        "    file.close()\n",
        "#     break"
      ]
    },
    {
      "cell_type": "code",
      "execution_count": null,
      "id": "33df9665",
      "metadata": {
        "id": "33df9665"
      },
      "outputs": [],
      "source": []
    }
  ],
  "metadata": {
    "kernelspec": {
      "display_name": "Python 3",
      "language": "python",
      "name": "python3"
    },
    "language_info": {
      "codemirror_mode": {
        "name": "ipython",
        "version": 3
      },
      "file_extension": ".py",
      "mimetype": "text/x-python",
      "name": "python",
      "nbconvert_exporter": "python",
      "pygments_lexer": "ipython3",
      "version": "3.7.11"
    },
    "colab": {
      "provenance": []
    },
    "gpuClass": "standard",
    "accelerator": "GPU"
  },
  "nbformat": 4,
  "nbformat_minor": 5
}